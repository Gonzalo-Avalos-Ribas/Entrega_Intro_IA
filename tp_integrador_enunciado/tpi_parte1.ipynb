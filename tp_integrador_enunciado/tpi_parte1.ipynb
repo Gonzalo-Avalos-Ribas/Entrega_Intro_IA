{
  "cells": [
    {
      "attachments": {},
      "cell_type": "markdown",
      "id": "07289bb0",
      "metadata": {},
      "source": [
        "# Trabajo integrador - Parte 1\n",
        "## Python y Numpy\n",
        "\n",
        "**Nombre**:"
      ]
    },
    {
      "cell_type": "code",
      "execution_count": null,
      "id": "aaf94e0a",
      "metadata": {
        "id": "aaf94e0a"
      },
      "outputs": [],
      "source": [
        "import numpy as np"
      ]
    },
    {
      "attachments": {},
      "cell_type": "markdown",
      "id": "0ffe9554",
      "metadata": {},
      "source": [
        "## Ejercicio 1\n",
        "\n",
        "Dada una matriz en formato *numpy array*, donde cada fila de la matriz representa un vector matemático, se requiere computar las normas $l_0$, $l_1$, $l_2$, $l_{\\infty}$, según la siguientes definiciones:\n",
        "\n",
        "\\begin{equation}\n",
        "    ||\\mathbf{x}||^{p} = \\bigg(\\sum_{j=1}^{n}{|x_i|^p}\\bigg)^{\\frac{1}{p}}\n",
        "\\end{equation}\n",
        "\n",
        "con los casos especiales para $p=0$ y $p=\\infty$ siendo:\n",
        "\n",
        "\\begin{equation}\n",
        "    \\begin{array}{rcl}\n",
        "        ||\\mathbf{x}||_0 & = & \\bigg(\\sum_{j=1 \\wedge x_j != 0}{|x_i|}\\bigg)\\\\\n",
        "        ||\\mathbf{x}||_{\\infty} & = & \\max_{i}{|x_i|}\\\\\n",
        "    \\end{array}\n",
        "\\end{equation}"
      ]
    },
    {
      "cell_type": "code",
      "execution_count": 1,
      "id": "0bdb0ee3",
      "metadata": {},
      "outputs": [
        {
          "name": "stdout",
          "output_type": "stream",
          "text": [
            "True\n"
          ]
        }
      ],
      "source": [
        "import numpy as np\n",
        "from numpy import linalg\n",
        "m_size = 100\n",
        "rand = np.random.randint(size = (m_size,m_size), low = 0, high = 100)\n",
        "#Mi implementacion\n",
        "def calculateNorm(matrix,n):\n",
        "  return linalg.norm(matrix,n,axis=1)\n",
        "\n",
        "def calculateNorm1(matrix,n):\n",
        "  matrix = matrix.astype('float64')\n",
        "  if(n == np.inf):\n",
        "    return vector_norm_inf(matrix)\n",
        "  if(n == 0):\n",
        "    return vector_norm_l0(matrix)\n",
        "  return vector_norm_ln(matrix,n)\n",
        "\n",
        "def vector_norm_l0(matrix):\n",
        "    mask = matrix > 0\n",
        "    return np.sum(mask, axis=1)\n",
        "\n",
        "def vector_norm_ln(matrix,n):\n",
        "    abs_m = np.abs(matrix)\n",
        "    return np.sum(abs_m ** n, axis=1)**(1/n)\n",
        "\n",
        "def vector_norm_inf(m):\n",
        "    return np.max(m, axis=1)\n",
        "\n",
        "\n",
        "valido = True\n",
        "for i in range(100):\n",
        "  valido = valido and np.all(np.equal(calculateNorm(rand,i),calculateNorm1(rand,i)))\n",
        "valido = valido and np.all(np.equal(calculateNorm(rand,np.inf),calculateNorm1(rand,np.inf)))\n",
        "print(valido)"
      ]
    },
    {
      "attachments": {},
      "cell_type": "markdown",
      "id": "dd66d862",
      "metadata": {},
      "source": [
        "## Ejercicio 2\n",
        "\n",
        "En clasificación contamos con dos arreglos, la “verdad” y la “predicción”. Cada elemento de los arreglos pueden tomar dos valores, “True” (representado por 1) y “False” (representado por 0). Entonces podemos definir 4 variables:\n",
        "\n",
        "* True Positive (TP): El valor verdadero es 1 y el valor predicho es 1\n",
        "* True Negative (TN): El valor verdadero es 0 y el valor predicho es 0\n",
        "* False Positive (FP): El valor verdadero es 0 y el valor predicho es 1\n",
        "* False Negative (FN): El valor verdadero es 1 y el valor predicho es 0\n",
        "\n",
        "A partir de esto definimos:\n",
        "\n",
        "* Precision = TP / (TP + FP)\n",
        "* Recall = TP / (TP + FN)\n",
        "* Accuracy = (TP + TN) / (TP + TN + FP + FN)\n",
        " \n",
        "Calcular las 3 métricas con Numpy y operaciones vectorizadas."
      ]
    },
    {
      "cell_type": "code",
      "execution_count": 2,
      "id": "794dcd58",
      "metadata": {},
      "outputs": [
        {
          "name": "stdout",
          "output_type": "stream",
          "text": [
            "0.5\n",
            "0.5\n",
            "0.4\n"
          ]
        }
      ],
      "source": [
        "truth = np.array([1,1,0,1,1,1,0,0,0,1])\n",
        "prediction = np.array([1,1,1,1,0,0,1,1,0,0])\n",
        "\n",
        "import numpy as np\n",
        "truth = np.array([1,1,0,1,1,1,0,0,0,1])\n",
        "prediction = np.array([1,1,1,1,0,0,1,1,0,0])\n",
        "\n",
        "not_truth = np.logical_not(truth)\n",
        "not_prediction = np.logical_not(prediction)\n",
        "TP = np.logical_and(truth,prediction).sum()\n",
        "TN = np.logical_and(not_truth,not_prediction).sum()\n",
        "FP = np.logical_and(not_truth,prediction).sum()\n",
        "FN = np.logical_and(truth,not_prediction).sum()\n",
        "presicion = TP/(TP + FN)\n",
        "recall = TP / (TP + FN)\n",
        "accuracy = (TP + TN) / (TP + TN + FP + FN)\n",
        "print(presicion)\n",
        "print(recall)\n",
        "print(accuracy)"
      ]
    },
    {
      "attachments": {},
      "cell_type": "markdown",
      "id": "d0ac6f6f",
      "metadata": {},
      "source": [
        "## Ejercicio 3\n",
        "\n",
        "Crear una función que separe los datos en train-validation-test. Debe recibir de parametros:\n",
        "\n",
        "- X: Array o Dataframe que contiene los datos de entrada del sistema.\n",
        "- y: Array o Dataframe que contiene la(s) variable(s) target del problema.\n",
        "- train_percentage: _float_ el porcentaje de training.\n",
        "- test_percentage: _float_ el porcentaje de testing.\n",
        "- val_percentage: _float_ el porcentaje de validación.\n",
        "- shuffle: _bool_ determina si el split debe hacerse de manera random o no.\n",
        "\n",
        "Hints: \n",
        "\n",
        "* Usar Indexing y slicing\n",
        "* Usar np.random.[...]"
      ]
    },
    {
      "cell_type": "code",
      "execution_count": 3,
      "id": "ca85fc66",
      "metadata": {},
      "outputs": [
        {
          "name": "stdout",
          "output_type": "stream",
          "text": [
            "(88, 127) (19, 127) (20, 127) (88,) (19,) (20,)\n"
          ]
        }
      ],
      "source": [
        "def split(X_input,\n",
        "          Y_input,\n",
        "          train_size=0.7,\n",
        "          val_size=0.15,\n",
        "          test_size=0.15,\n",
        "          random_state=42,\n",
        "          shuffle=True):\n",
        "    \n",
        " # Verificar que los tamaños suman 1.0\n",
        "    assert train_size + val_size + test_size == 1.0, \"Los tamaños de train, validation y test deben sumar 1.0\"\n",
        "\n",
        "    # Obtener la longitud total de los datos\n",
        "    total_samples = len(X_input)\n",
        "\n",
        "    # Calcular los índices de corte para train, validation y test\n",
        "    train_end = int(train_size * total_samples)\n",
        "    val_end = train_end + int(val_size * total_samples)\n",
        "\n",
        "    # Crear índices para barajar si es necesario\n",
        "    indices = np.arange(total_samples)\n",
        "    if shuffle:\n",
        "        np.random.seed(random_state)\n",
        "        np.random.shuffle(indices)\n",
        "\n",
        "    # Aplicar los índices para obtener datos barajados\n",
        "    X_shuffled = X_input[indices]\n",
        "    Y_shuffled = Y_input[indices]\n",
        "\n",
        "    # Dividir los datos en conjuntos de train, validation y test\n",
        "    X_train, Y_train = X_shuffled[:train_end], Y_shuffled[:train_end]\n",
        "    X_val, Y_val = X_shuffled[train_end:val_end], Y_shuffled[train_end:val_end]\n",
        "    X_test, Y_test = X_shuffled[val_end:], Y_shuffled[val_end:]\n",
        "\n",
        "    return X_train, X_val, X_test, Y_train, Y_val, Y_test\n",
        "\n",
        "#Ejemplo\n",
        "m_size = 127\n",
        "X_data = np.random.randint(size = (m_size,m_size), low = 0, high = 100)\n",
        "Y_data = np.random.randint(size = m_size, low = 0, high = 100)\n",
        "\n",
        "X_train, X_val, X_test, Y_train, Y_val, Y_test = split(X_data,Y_data)\n",
        "print(X_train.shape,X_val.shape,X_test.shape,Y_train.shape,Y_val.shape,Y_test.shape)"
      ]
    }
  ],
  "metadata": {
    "colab": {
      "collapsed_sections": [],
      "name": "Practica_clase_3.ipynb",
      "provenance": []
    },
    "kernelspec": {
      "display_name": "Python 3.10.7 64-bit",
      "language": "python",
      "name": "python3"
    },
    "language_info": {
      "codemirror_mode": {
        "name": "ipython",
        "version": 3
      },
      "file_extension": ".py",
      "mimetype": "text/x-python",
      "name": "python",
      "nbconvert_exporter": "python",
      "pygments_lexer": "ipython3",
      "version": "3.8.10"
    },
    "vscode": {
      "interpreter": {
        "hash": "b5c22da4a52024410f64f9c5a5e2b4ffeeb944a5ed00e8825a42174cdab30315"
      }
    }
  },
  "nbformat": 4,
  "nbformat_minor": 5
}

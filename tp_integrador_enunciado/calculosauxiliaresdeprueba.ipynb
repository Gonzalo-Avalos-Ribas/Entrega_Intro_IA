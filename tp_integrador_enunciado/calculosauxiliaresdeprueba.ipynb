{
 "cells": [
  {
   "cell_type": "code",
   "execution_count": 4,
   "metadata": {},
   "outputs": [
    {
     "data": {
      "text/plain": [
       "1.959963984540054"
      ]
     },
     "execution_count": 4,
     "metadata": {},
     "output_type": "execute_result"
    }
   ],
   "source": [
    "\n",
    "from scipy import stats\n",
    "from numpy import sqrt\n",
    "import pandas as pd\n",
    "import numpy as np\n",
    "z975 = stats.norm.ppf(0.975)\n",
    "z975\n"
   ]
  }
 ],
 "metadata": {
  "interpreter": {
   "hash": "2c843da98e06575362a3df9c3e09a081836bebaa316e2e84d8778a773953ef30"
  },
  "kernelspec": {
   "display_name": "Python 3.8.10 64-bit (windows store)",
   "language": "python",
   "name": "python3"
  },
  "language_info": {
   "codemirror_mode": {
    "name": "ipython",
    "version": 3
   },
   "file_extension": ".py",
   "mimetype": "text/x-python",
   "name": "python",
   "nbconvert_exporter": "python",
   "pygments_lexer": "ipython3",
   "version": "3.8.10"
  },
  "orig_nbformat": 4
 },
 "nbformat": 4,
 "nbformat_minor": 2
}
